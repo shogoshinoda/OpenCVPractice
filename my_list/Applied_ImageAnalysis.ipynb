{
 "cells": [
  {
   "cell_type": "code",
   "execution_count": 1,
   "id": "90e39f1e-a3ed-4213-afa7-47b7ae2039a8",
   "metadata": {},
   "outputs": [],
   "source": [
    "#　アファイン変換"
   ]
  },
  {
   "cell_type": "code",
   "execution_count": 3,
   "id": "2261044c-cf44-42bf-b1f9-a46b37acb5aa",
   "metadata": {},
   "outputs": [],
   "source": [
    "import cv2\n",
    "import numpy as np"
   ]
  },
  {
   "cell_type": "code",
   "execution_count": 3,
   "id": "027fa413-1aff-4557-91e7-7cc28e4145bf",
   "metadata": {},
   "outputs": [],
   "source": [
    "img = cv2.imread('src/grapes.jpg')\n",
    "h, w = img.shape[:2]\n",
    "#　平行移動するピクセル数\n",
    "dx, dy = 30, 30"
   ]
  },
  {
   "cell_type": "code",
   "execution_count": 4,
   "id": "758b9582-8c6b-401f-9981-5435a4457155",
   "metadata": {},
   "outputs": [],
   "source": [
    "# 左上（原点）から30、30ずれる\n",
    "afn_mat = np.float32([[1,0,dx],[0,1,dy]])\n",
    "# w,h 解像度指定\n",
    "img_afn = cv2.warpAffine(img, afn_mat, (w,h))"
   ]
  },
  {
   "cell_type": "code",
   "execution_count": 5,
   "id": "8b543901-525a-49b7-8641-873cd66e4426",
   "metadata": {},
   "outputs": [
    {
     "data": {
      "text/plain": [
       "-1"
      ]
     },
     "execution_count": 5,
     "metadata": {},
     "output_type": "execute_result"
    }
   ],
   "source": [
    "cv2.imshow('trans', img_afn)\n",
    "cv2.waitKey(0)\n",
    "cv2.destroyAllWindows()\n",
    "cv2.waitKey(1)"
   ]
  },
  {
   "cell_type": "code",
   "execution_count": 7,
   "id": "3bc7f1ff-e106-4f12-bdf9-b771933293b1",
   "metadata": {},
   "outputs": [],
   "source": [
    "# 回転　　　　　第1：回転する中心の座標、第2：回転する角度、第3：画像のスケールを変えることができる（今回回転だけ）\n",
    "rot_mat = cv2.getRotationMatrix2D((w/2, h/2), 40, 1)\n",
    "img_afn2 = cv2. warpAffine(img, rot_mat, (w,h))"
   ]
  },
  {
   "cell_type": "code",
   "execution_count": 1,
   "id": "a9c02dc2-116c-4191-bf64-90f4745de10c",
   "metadata": {},
   "outputs": [
    {
     "ename": "NameError",
     "evalue": "name 'cv2' is not defined",
     "output_type": "error",
     "traceback": [
      "\u001b[0;31m---------------------------------------------------------------------------\u001b[0m",
      "\u001b[0;31mNameError\u001b[0m                                 Traceback (most recent call last)",
      "\u001b[0;32m<ipython-input-1-e2b01318acc9>\u001b[0m in \u001b[0;36m<module>\u001b[0;34m\u001b[0m\n\u001b[0;32m----> 1\u001b[0;31m \u001b[0mcv2\u001b[0m\u001b[0;34m.\u001b[0m\u001b[0mimshow\u001b[0m\u001b[0;34m(\u001b[0m\u001b[0;34m'rot'\u001b[0m\u001b[0;34m,\u001b[0m \u001b[0mimg_afn2\u001b[0m\u001b[0;34m)\u001b[0m\u001b[0;34m\u001b[0m\u001b[0;34m\u001b[0m\u001b[0m\n\u001b[0m\u001b[1;32m      2\u001b[0m \u001b[0mcv2\u001b[0m\u001b[0;34m.\u001b[0m\u001b[0mwaitKey\u001b[0m\u001b[0;34m(\u001b[0m\u001b[0;36m0\u001b[0m\u001b[0;34m)\u001b[0m\u001b[0;34m\u001b[0m\u001b[0;34m\u001b[0m\u001b[0m\n\u001b[1;32m      3\u001b[0m \u001b[0mcv2\u001b[0m\u001b[0;34m.\u001b[0m\u001b[0mdestroyAllWindows\u001b[0m\u001b[0;34m(\u001b[0m\u001b[0;34m)\u001b[0m\u001b[0;34m\u001b[0m\u001b[0;34m\u001b[0m\u001b[0m\n\u001b[1;32m      4\u001b[0m \u001b[0mcv2\u001b[0m\u001b[0;34m.\u001b[0m\u001b[0mwaitKey\u001b[0m\u001b[0;34m(\u001b[0m\u001b[0;36m1\u001b[0m\u001b[0;34m)\u001b[0m\u001b[0;34m\u001b[0m\u001b[0;34m\u001b[0m\u001b[0m\n",
      "\u001b[0;31mNameError\u001b[0m: name 'cv2' is not defined"
     ]
    }
   ],
   "source": [
    "cv2.imshow('rot', img_afn2)\n",
    "cv2.waitKey(0)\n",
    "cv2.destroyAllWindows()\n",
    "cv2.waitKey(1)"
   ]
  },
  {
   "cell_type": "code",
   "execution_count": null,
   "id": "3fc9d9ef-465c-4e4b-9326-af0bc82bb0f8",
   "metadata": {},
   "outputs": [],
   "source": []
  },
  {
   "cell_type": "code",
   "execution_count": 2,
   "id": "4f5454fe-4225-4deb-8361-518129d03aa0",
   "metadata": {},
   "outputs": [],
   "source": [
    "# 透視変換・・・二次元だが奥行き方向に分布しているような画像に変換\n",
    "\n",
    "# 指定した点に分布(対応させる）させる"
   ]
  },
  {
   "cell_type": "code",
   "execution_count": 5,
   "id": "3ed2e830-fcdc-4fd6-bd11-04af24cc7ba5",
   "metadata": {},
   "outputs": [
    {
     "data": {
      "text/plain": [
       "-1"
      ]
     },
     "execution_count": 5,
     "metadata": {},
     "output_type": "execute_result"
    }
   ],
   "source": [
    "img = cv2.imread('src/drive.jpg')\n",
    "h, w = img.shape[:2]\n",
    "cv2.imshow('img', img)\n",
    "cv2.waitKey(0)\n",
    "cv2.destroyAllWindows()\n",
    "cv2.waitKey(1)"
   ]
  },
  {
   "cell_type": "code",
   "execution_count": 13,
   "id": "173ff10f-c9d6-4f83-a16a-0e223c9a3190",
   "metadata": {},
   "outputs": [],
   "source": [
    "# 合計8点を指定してその形になるように分布させる\n",
    "per1 = np.float32([[100,500], [300,500], [300,100], [100,100]])\n",
    "per2 = np.float32([[100,500], [300,500], [200,200], [150,200]])\n",
    "\n",
    "psp_matrix = cv2.getPerspectiveTransform(per1, per2)\n",
    "img_psp = cv2.warpPerspective(img, psp_matrix, (w,h))"
   ]
  },
  {
   "cell_type": "code",
   "execution_count": 15,
   "id": "71e0fdf9-6b2d-4881-ac0e-63a1b1710107",
   "metadata": {},
   "outputs": [
    {
     "data": {
      "text/plain": [
       "-1"
      ]
     },
     "execution_count": 15,
     "metadata": {},
     "output_type": "execute_result"
    }
   ],
   "source": [
    "cv2.imshow('img_psp', img_psp)\n",
    "cv2.waitKey(0)\n",
    "cv2.destroyAllWindows()\n",
    "cv2.waitKey(1)"
   ]
  },
  {
   "cell_type": "code",
   "execution_count": null,
   "id": "6fcd0463-9318-4bc3-b520-997f6160c60f",
   "metadata": {},
   "outputs": [],
   "source": []
  },
  {
   "cell_type": "code",
   "execution_count": 16,
   "id": "98454e5e-c37f-4b99-af70-fa77d3f409b9",
   "metadata": {},
   "outputs": [],
   "source": [
    "#　畳み込み・・・周囲の情報を使った自分の画素値の更新（ノイズ除去、平滑化フィルタ）\n",
    "\n",
    "# 流れ①フィルターを用意②着目画素の周囲で（画素値）＊（フィルター）を行い足していく③全ての画素について畳み込みを行う"
   ]
  },
  {
   "cell_type": "code",
   "execution_count": 17,
   "id": "42758abe-0f7e-429f-97b9-8c92c357d5a5",
   "metadata": {},
   "outputs": [],
   "source": [
    "# 畳み込み基礎"
   ]
  },
  {
   "cell_type": "code",
   "execution_count": 21,
   "id": "10fb2a49-70a7-44f3-9a8e-047d4de233e2",
   "metadata": {},
   "outputs": [],
   "source": [
    "import cv2\n",
    "import numpy as np"
   ]
  },
  {
   "cell_type": "code",
   "execution_count": 26,
   "id": "6f205233-ef8b-4e6d-9915-360410a26abb",
   "metadata": {},
   "outputs": [],
   "source": [
    "kernel = np.ones((3,3)) / 9.0"
   ]
  },
  {
   "cell_type": "code",
   "execution_count": 29,
   "id": "8be6a09d-95da-4ff9-ae0a-54b3350b3b90",
   "metadata": {},
   "outputs": [],
   "source": [
    "img = cv2.imread('src/Lena.jpg', 0)"
   ]
  },
  {
   "cell_type": "code",
   "execution_count": 30,
   "id": "b603238a-4e80-4d53-bb7b-3cb986e0d30f",
   "metadata": {},
   "outputs": [],
   "source": [
    "# 第1：入力画像、第2：ビット深度（負だと元の値を返す）\n",
    "img_ke1 = cv2.filter2D(img, -1, kernel)"
   ]
  },
  {
   "cell_type": "code",
   "execution_count": 31,
   "id": "79f03a80-7ad7-428f-a15d-140647e99895",
   "metadata": {},
   "outputs": [
    {
     "data": {
      "text/plain": [
       "-1"
      ]
     },
     "execution_count": 31,
     "metadata": {},
     "output_type": "execute_result"
    }
   ],
   "source": [
    "cv2.imshow('img_ke1', img_ke1)\n",
    "cv2.imshow('src', img)\n",
    "cv2.waitKey(0)\n",
    "cv2.destroyAllWindows()\n",
    "cv2.waitKey(1)"
   ]
  },
  {
   "cell_type": "code",
   "execution_count": 33,
   "id": "c6eabb66-870c-460e-907a-68e3a51d74d3",
   "metadata": {},
   "outputs": [],
   "source": [
    "# ソーベルフィルター  (横方向の微分)\n",
    "kernel2 = np.zeros((3,3))\n",
    "kernel2[0,0] = 1\n",
    "kernel2[1,0] = 2\n",
    "kernel2[2,0] = 1\n",
    "kernel2[0,2] = -1\n",
    "kernel2[1,2] = -2\n",
    "kernel2[2,2] = -1\n",
    "kernel2[1,0] = 2"
   ]
  },
  {
   "cell_type": "code",
   "execution_count": 34,
   "id": "87b8cf20-0a28-492a-bdc9-72c4c7f02204",
   "metadata": {},
   "outputs": [
    {
     "data": {
      "text/plain": [
       "array([[ 1.,  0., -1.],\n",
       "       [ 2.,  0., -2.],\n",
       "       [ 1.,  0., -1.]])"
      ]
     },
     "execution_count": 34,
     "metadata": {},
     "output_type": "execute_result"
    }
   ],
   "source": [
    "kernel2"
   ]
  },
  {
   "cell_type": "code",
   "execution_count": 35,
   "id": "b9b41480-509c-4d44-ab38-3e2e26b5afdd",
   "metadata": {},
   "outputs": [],
   "source": [
    "img_ke2 = cv2.filter2D(img, -1, kernel2)"
   ]
  },
  {
   "cell_type": "code",
   "execution_count": 36,
   "id": "b6a56b89-e203-4a47-81e1-d4f5af2a4755",
   "metadata": {},
   "outputs": [
    {
     "data": {
      "text/plain": [
       "-1"
      ]
     },
     "execution_count": 36,
     "metadata": {},
     "output_type": "execute_result"
    }
   ],
   "source": [
    "cv2.imshow('img_ke2', img_ke2)\n",
    "cv2.imshow('src', img)\n",
    "cv2.waitKey(0)\n",
    "cv2.destroyAllWindows()\n",
    "cv2.waitKey(1)"
   ]
  },
  {
   "cell_type": "code",
   "execution_count": null,
   "id": "304c2de0-e618-4fbf-8c09-c764ad9f5017",
   "metadata": {},
   "outputs": [],
   "source": []
  },
  {
   "cell_type": "code",
   "execution_count": null,
   "id": "e4a67033-d468-48f8-ace6-968e6f573387",
   "metadata": {},
   "outputs": [],
   "source": [
    "# 画像の平滑化・・・filters"
   ]
  },
  {
   "cell_type": "code",
   "execution_count": 37,
   "id": "ec4f605b-4eb6-4799-92b4-f55d1ff9d9ae",
   "metadata": {},
   "outputs": [],
   "source": [
    "import cv2"
   ]
  },
  {
   "cell_type": "code",
   "execution_count": 38,
   "id": "95dd5d28-2d59-44d9-a4cc-57400506f3bc",
   "metadata": {},
   "outputs": [],
   "source": [
    "img = cv2.imread('src/buildings.jpg')"
   ]
  },
  {
   "cell_type": "code",
   "execution_count": 40,
   "id": "114c49bd-2a87-4b78-a97b-7141336dcabf",
   "metadata": {},
   "outputs": [],
   "source": [
    "# img_ke2と同じフィルター（簡単に作れる）\n",
    "img_blur = cv2.blur(img, (3,3))"
   ]
  },
  {
   "cell_type": "code",
   "execution_count": 41,
   "id": "7de9bac2-58b9-4a22-b8b9-5f3e5c2e5dd0",
   "metadata": {},
   "outputs": [
    {
     "data": {
      "text/plain": [
       "-1"
      ]
     },
     "execution_count": 41,
     "metadata": {},
     "output_type": "execute_result"
    }
   ],
   "source": [
    "cv2.imshow('img_blur', img_blur)\n",
    "cv2.imshow('src', img)\n",
    "cv2.waitKey(0)\n",
    "cv2.destroyAllWindows()\n",
    "cv2.waitKey(1)"
   ]
  },
  {
   "cell_type": "code",
   "execution_count": 42,
   "id": "fe5c5ac6-637a-4579-ad23-5aff78731f98",
   "metadata": {},
   "outputs": [],
   "source": [
    "# 奇数を渡さないとダメ　　　　分散\n",
    "img_ga = cv2.GaussianBlur(img, (9,9), 2)"
   ]
  },
  {
   "cell_type": "code",
   "execution_count": 43,
   "id": "6e87c230-2f3a-436c-81df-5f3e8de835d4",
   "metadata": {},
   "outputs": [
    {
     "data": {
      "text/plain": [
       "-1"
      ]
     },
     "execution_count": 43,
     "metadata": {},
     "output_type": "execute_result"
    }
   ],
   "source": [
    "cv2.imshow('img_ga', img_ga)\n",
    "cv2.imshow('src', img)\n",
    "cv2.waitKey(0)\n",
    "cv2.destroyAllWindows()\n",
    "cv2.waitKey(1)"
   ]
  },
  {
   "cell_type": "code",
   "execution_count": 44,
   "id": "7456c41c-f901-4244-bcd8-661daa2e2353",
   "metadata": {},
   "outputs": [],
   "source": [
    "# mediafilter 5カケル5の中央値に塗りつぶす\n",
    "img_me = cv2.medianBlur(img, 5)"
   ]
  },
  {
   "cell_type": "code",
   "execution_count": 45,
   "id": "b41b5f9d-dc4d-4284-936d-6331c18ed789",
   "metadata": {},
   "outputs": [
    {
     "data": {
      "text/plain": [
       "-1"
      ]
     },
     "execution_count": 45,
     "metadata": {},
     "output_type": "execute_result"
    }
   ],
   "source": [
    "cv2.imshow('img_me', img_me)\n",
    "cv2.imshow('src', img)\n",
    "cv2.waitKey(0)\n",
    "cv2.destroyAllWindows()\n",
    "cv2.waitKey(1)"
   ]
  },
  {
   "cell_type": "code",
   "execution_count": 49,
   "id": "9075a8e8-064a-4f79-94ab-19c2ceefb604",
   "metadata": {},
   "outputs": [],
   "source": [
    "# 非線形フィルター　　　　バイラテラルフィルター　　　　輝度変化が滑らかなところのみ平滑化\n",
    "# 第2：フィルターのまど、第3：シグマ、第4：分散？\n",
    "img_bi = cv2.bilateralFilter(img, 20, 30, 30)"
   ]
  },
  {
   "cell_type": "code",
   "execution_count": 50,
   "id": "d3f8972a-a9e2-4734-9e1d-0bd163755ad4",
   "metadata": {},
   "outputs": [
    {
     "data": {
      "text/plain": [
       "-1"
      ]
     },
     "execution_count": 50,
     "metadata": {},
     "output_type": "execute_result"
    }
   ],
   "source": [
    "cv2.imshow('img_bi', img_bi)\n",
    "cv2.imshow('src', img)\n",
    "cv2.waitKey(0)\n",
    "cv2.destroyAllWindows()\n",
    "cv2.waitKey(1)"
   ]
  },
  {
   "cell_type": "code",
   "execution_count": null,
   "id": "778cc736-0025-4e3c-b2ef-aa9b2f971ce9",
   "metadata": {},
   "outputs": [],
   "source": []
  },
  {
   "cell_type": "code",
   "execution_count": null,
   "id": "3ac5d2fb-1b4e-4757-898d-00f82f634737",
   "metadata": {},
   "outputs": [],
   "source": []
  },
  {
   "cell_type": "code",
   "execution_count": null,
   "id": "3f73fabd-65df-4a8c-b6df-8f2729acee21",
   "metadata": {},
   "outputs": [],
   "source": []
  },
  {
   "cell_type": "code",
   "execution_count": null,
   "id": "2c7754d1-e08d-4ab5-8154-042b9596f818",
   "metadata": {},
   "outputs": [],
   "source": []
  },
  {
   "cell_type": "code",
   "execution_count": null,
   "id": "f88fea1a-4783-4070-8013-d4d209be81e1",
   "metadata": {},
   "outputs": [],
   "source": []
  },
  {
   "cell_type": "code",
   "execution_count": null,
   "id": "ac2bcf98-ca60-4464-b62c-65d0fd5a051d",
   "metadata": {},
   "outputs": [],
   "source": []
  },
  {
   "cell_type": "code",
   "execution_count": null,
   "id": "d600b1af-ce7a-460b-90b3-3d26861313f8",
   "metadata": {},
   "outputs": [],
   "source": []
  },
  {
   "cell_type": "code",
   "execution_count": null,
   "id": "51fe5e77-bf5b-486f-b457-4dfd69c79b93",
   "metadata": {},
   "outputs": [],
   "source": []
  },
  {
   "cell_type": "code",
   "execution_count": null,
   "id": "c4a4ea1a-7c8b-4680-be7b-72da4f5a6516",
   "metadata": {},
   "outputs": [],
   "source": []
  },
  {
   "cell_type": "code",
   "execution_count": null,
   "id": "db3c6f28-f504-4a15-bb45-4fa730c21705",
   "metadata": {},
   "outputs": [],
   "source": []
  },
  {
   "cell_type": "code",
   "execution_count": null,
   "id": "dbd28ef1-4257-40b3-a9c7-5027a86bd751",
   "metadata": {},
   "outputs": [],
   "source": []
  },
  {
   "cell_type": "code",
   "execution_count": null,
   "id": "f93ad1b1-6b9f-47a6-9a47-eb5de61bec44",
   "metadata": {},
   "outputs": [],
   "source": []
  },
  {
   "cell_type": "code",
   "execution_count": null,
   "id": "0120d9d8-d659-498b-ae37-d073a84cf337",
   "metadata": {},
   "outputs": [],
   "source": []
  },
  {
   "cell_type": "code",
   "execution_count": null,
   "id": "d5e2d2be-0743-4431-8572-1bc1cc9c5c4e",
   "metadata": {},
   "outputs": [],
   "source": []
  },
  {
   "cell_type": "code",
   "execution_count": null,
   "id": "1a4fb9e8-0c2c-4714-8825-7b37a57c6438",
   "metadata": {},
   "outputs": [],
   "source": []
  }
 ],
 "metadata": {
  "kernelspec": {
   "display_name": "Python 3",
   "language": "python",
   "name": "python3"
  },
  "language_info": {
   "codemirror_mode": {
    "name": "ipython",
    "version": 3
   },
   "file_extension": ".py",
   "mimetype": "text/x-python",
   "name": "python",
   "nbconvert_exporter": "python",
   "pygments_lexer": "ipython3",
   "version": "3.8.8"
  }
 },
 "nbformat": 4,
 "nbformat_minor": 5
}
