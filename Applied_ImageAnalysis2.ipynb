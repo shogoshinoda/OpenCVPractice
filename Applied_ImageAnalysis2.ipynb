{
 "cells": [
  {
   "cell_type": "code",
   "execution_count": null,
   "id": "a6cc73df-16a7-47aa-972b-cd3711bb46a9",
   "metadata": {},
   "outputs": [],
   "source": []
  },
  {
   "cell_type": "code",
   "execution_count": null,
   "id": "05ebd2a1-f58a-4048-8e2d-6e940745db21",
   "metadata": {},
   "outputs": [],
   "source": [
    "#　画像の微分　　隣のピクセルの画素との変化量"
   ]
  },
  {
   "cell_type": "code",
   "execution_count": null,
   "id": "373e2255-31e9-4e92-bc92-2ae63ad29893",
   "metadata": {},
   "outputs": [],
   "source": [
    "# エッジの検出（Sobel・Laplacian） LaplacianGaush"
   ]
  },
  {
   "cell_type": "code",
   "execution_count": 4,
   "id": "e4939ce0-190f-453b-b07f-5763ee7e2d65",
   "metadata": {},
   "outputs": [],
   "source": [
    "import cv2"
   ]
  },
  {
   "cell_type": "code",
   "execution_count": 2,
   "id": "6efb8004-a82e-4e3f-8129-7543907b69b7",
   "metadata": {},
   "outputs": [
    {
     "data": {
      "text/plain": [
       "-1"
      ]
     },
     "execution_count": 2,
     "metadata": {},
     "output_type": "execute_result"
    }
   ],
   "source": [
    "img = cv2.imread('src/Lena.jpg', 0)\n",
    "cv2.imshow('img', img)\n",
    "cv2.waitKey(0)\n",
    "cv2.destroyAllWindows()\n",
    "cv2.waitKey(1)"
   ]
  },
  {
   "cell_type": "code",
   "execution_count": 6,
   "id": "e579d167-4fb5-4275-80ee-dad5bd1890fc",
   "metadata": {},
   "outputs": [],
   "source": [
    "# sobel\n",
    "# x方向微分\n",
    "img_sobelx = cv2.Sobel(img, cv2.CV_32F, 1, 0, ksize=3)\n",
    "# y方向微分\n",
    "img_sobely = cv2.Sobel(img, cv2.CV_32F, 0, 1, ksize=3)"
   ]
  },
  {
   "cell_type": "code",
   "execution_count": 7,
   "id": "be07d222-40be-459f-88cf-f8e8a3ffb392",
   "metadata": {},
   "outputs": [
    {
     "data": {
      "text/plain": [
       "array([[   0.,   -4.,   -6., ...,  -72., -174.,    0.],\n",
       "       [   0.,   -1.,   -5., ...,  -68., -176.,    0.],\n",
       "       [   0.,    3.,   -5., ...,  -58., -169.,    0.],\n",
       "       ...,\n",
       "       [   0.,   31.,   14., ...,   -1.,  -12.,    0.],\n",
       "       [   0.,   51.,   26., ...,    6.,    9.,    0.],\n",
       "       [   0.,   58.,   28., ...,   10.,   20.,    0.]], dtype=float32)"
      ]
     },
     "execution_count": 7,
     "metadata": {},
     "output_type": "execute_result"
    }
   ],
   "source": [
    "img_sobelx"
   ]
  },
  {
   "cell_type": "code",
   "execution_count": 8,
   "id": "87f034ec-6bf5-4293-9aa6-0f0f399d2848",
   "metadata": {},
   "outputs": [],
   "source": [
    "# 微分したものはマイナスが入っているので、0-255段階に直す\n",
    "img_sobelx = cv2.convertScaleAbs(img_sobelx)\n",
    "img_sobely = cv2.convertScaleAbs(img_sobely)"
   ]
  },
  {
   "cell_type": "code",
   "execution_count": 5,
   "id": "4638c2b8-afe2-4bbd-adba-20d1dd038c36",
   "metadata": {},
   "outputs": [
    {
     "data": {
      "text/plain": [
       "array([[  0,   4,   6, ...,  72, 174,   0],\n",
       "       [  0,   1,   5, ...,  68, 176,   0],\n",
       "       [  0,   3,   5, ...,  58, 169,   0],\n",
       "       ...,\n",
       "       [  0,  31,  14, ...,   1,  12,   0],\n",
       "       [  0,  51,  26, ...,   6,   9,   0],\n",
       "       [  0,  58,  28, ...,  10,  20,   0]], dtype=uint8)"
      ]
     },
     "execution_count": 5,
     "metadata": {},
     "output_type": "execute_result"
    }
   ],
   "source": [
    "img_sobelx"
   ]
  },
  {
   "cell_type": "code",
   "execution_count": 9,
   "id": "ea007cc0-0b49-46ec-b8bb-923258c99fba",
   "metadata": {},
   "outputs": [
    {
     "data": {
      "text/plain": [
       "-1"
      ]
     },
     "execution_count": 9,
     "metadata": {},
     "output_type": "execute_result"
    }
   ],
   "source": [
    "cv2.imshow('x', img_sobelx)\n",
    "cv2.imshow('y', img_sobely)\n",
    "cv2.waitKey(0)\n",
    "cv2.destroyAllWindows()\n",
    "cv2.waitKey(1)"
   ]
  },
  {
   "cell_type": "code",
   "execution_count": 10,
   "id": "04dba6aa-538e-4728-947c-2409fc6a471f",
   "metadata": {},
   "outputs": [],
   "source": [
    "# laplacian filter"
   ]
  },
  {
   "cell_type": "code",
   "execution_count": 12,
   "id": "ea073247-d0f3-4eae-8b88-9020314d86ee",
   "metadata": {},
   "outputs": [],
   "source": [
    "# 方向がないため入力画像とビット深度のみでいい\n",
    "img_lap = cv2.Laplacian(img, cv2.CV_32F)"
   ]
  },
  {
   "cell_type": "code",
   "execution_count": 13,
   "id": "a11b01ac-d149-4582-bb15-a43aa546814c",
   "metadata": {},
   "outputs": [],
   "source": [
    "img_lap = cv2.convertScaleAbs(img_lap)"
   ]
  },
  {
   "cell_type": "code",
   "execution_count": 15,
   "id": "e57365e3-cbcf-42a8-929e-70c38e09dfd4",
   "metadata": {},
   "outputs": [
    {
     "data": {
      "text/plain": [
       "-1"
      ]
     },
     "execution_count": 15,
     "metadata": {},
     "output_type": "execute_result"
    }
   ],
   "source": [
    "# 二次の微分のため値が弱い　ー＞はっきりさせるため\n",
    "# しかしノイズが発生するー＞ガウスを用いてノイズ除去\n",
    "img_lap *= 2\n",
    "cv2.imshow('img_lap', img_lap)\n",
    "cv2.waitKey(0)\n",
    "cv2.destroyAllWindows()\n",
    "cv2.waitKey(1)"
   ]
  },
  {
   "cell_type": "code",
   "execution_count": null,
   "id": "e01b0fd9-b91b-4179-9ab7-8aa6a32bba3e",
   "metadata": {},
   "outputs": [],
   "source": [
    "# Laplacian Of Gaussian Filter"
   ]
  },
  {
   "cell_type": "code",
   "execution_count": 16,
   "id": "b9c8613e-83ef-4532-bdbb-dc1920d45012",
   "metadata": {},
   "outputs": [],
   "source": [
    "img_blur = cv2.GaussianBlur(img, (3,3), 2)\n",
    "img_lap2 = cv2.Laplacian(img_blur, cv2.CV_32F)\n",
    "img_lap2 = cv2.convertScaleAbs(img_lap2)"
   ]
  },
  {
   "cell_type": "code",
   "execution_count": 18,
   "id": "e3f58b7f-dbef-4aa3-a004-5765cd2669c2",
   "metadata": {},
   "outputs": [
    {
     "data": {
      "text/plain": [
       "-1"
      ]
     },
     "execution_count": 18,
     "metadata": {},
     "output_type": "execute_result"
    }
   ],
   "source": [
    "img_lap2 *= 2\n",
    "cv2.imshow('img_lap2', img_lap2)\n",
    "cv2.waitKey(0)\n",
    "cv2.destroyAllWindows()\n",
    "cv2.waitKey(1)"
   ]
  },
  {
   "cell_type": "code",
   "execution_count": null,
   "id": "e45dcd39-9e8f-4a9f-b106-7b1847014b41",
   "metadata": {},
   "outputs": [],
   "source": []
  },
  {
   "cell_type": "code",
   "execution_count": null,
   "id": "ba95246b-4e29-4793-982d-c42f4f77ba45",
   "metadata": {},
   "outputs": [],
   "source": [
    "# エッジの検出（Canny）\n",
    "\"\"\"\n",
    "Cannyのアルゴリズム\n",
    "①ガウシアンフィルタでぼかす（ノイズ除去）\n",
    "②Sobelフィルターで微分する（x、yそれぞれ取得　　画素値の2乗和をスクエアルートで）\n",
    "③極大点を探す（グラデーションなどを除去）\n",
    "④2段階の閾値処理でエッジを残す（エッジ->画素値の変化が大きいところ）\n",
    "\"\"\""
   ]
  },
  {
   "cell_type": "code",
   "execution_count": 19,
   "id": "88073dee-1306-4047-901b-668250a180ff",
   "metadata": {},
   "outputs": [],
   "source": [
    "import cv2"
   ]
  },
  {
   "cell_type": "code",
   "execution_count": 20,
   "id": "a1b2fa22-8e9d-4489-82df-c8ea80eecc08",
   "metadata": {},
   "outputs": [],
   "source": [
    "img = cv2.imread('src/Lena.jpg', 0)"
   ]
  },
  {
   "cell_type": "code",
   "execution_count": 21,
   "id": "2ec5d8a8-946d-4632-875e-816f2515c680",
   "metadata": {},
   "outputs": [
    {
     "data": {
      "text/plain": [
       "-1"
      ]
     },
     "execution_count": 21,
     "metadata": {},
     "output_type": "execute_result"
    }
   ],
   "source": [
    "# 第2、第3の二つの閾値をうまく調整することによってより良い画像にする\n",
    "img_canny = cv2.Canny(img, 100, 200)\n",
    "cv2.imshow('img_canny', img_canny)\n",
    "cv2.waitKey(0)\n",
    "cv2.destroyAllWindows()\n",
    "cv2.waitKey(1)"
   ]
  },
  {
   "cell_type": "code",
   "execution_count": null,
   "id": "cb9a1726-9c29-49a3-a1b4-80b19f371d8f",
   "metadata": {},
   "outputs": [],
   "source": []
  },
  {
   "cell_type": "code",
   "execution_count": 24,
   "id": "e65b2105-470a-4e41-a8a1-cab450dc0c93",
   "metadata": {},
   "outputs": [
    {
     "data": {
      "text/plain": [
       "'\\n①画素のある点を探す\\n②θを様々な値に設定しρを計算\\n③全ての点で①と②を繰り返す\\n④ρとθの出現頻度を集計\\n⑤出現頻度が最も多いものもしくは閾値より大きいものが直線\\n'"
      ]
     },
     "execution_count": 24,
     "metadata": {},
     "output_type": "execute_result"
    }
   ],
   "source": [
    "# 直線の検出\n",
    "\"\"\"\n",
    "①画素のある点を探す\n",
    "②θを様々な値に設定しρを計算\n",
    "③全ての点で①と②を繰り返す\n",
    "④ρとθの出現頻度を集計\n",
    "⑤出現頻度が最も多いものもしくは閾値より大きいものが直線\n",
    "\"\"\""
   ]
  },
  {
   "cell_type": "code",
   "execution_count": 37,
   "id": "1c1e5ac3-8b4f-4992-aa6c-0a527367b0bb",
   "metadata": {},
   "outputs": [],
   "source": [
    "import cv2\n",
    "import numpy as np"
   ]
  },
  {
   "cell_type": "code",
   "execution_count": 26,
   "id": "62127d5a-4398-4768-8953-cbc4b9033dfd",
   "metadata": {},
   "outputs": [
    {
     "data": {
      "text/plain": [
       "-1"
      ]
     },
     "execution_count": 26,
     "metadata": {},
     "output_type": "execute_result"
    }
   ],
   "source": [
    "img = cv2.imread('src/road.jpg')\n",
    "img_g = cv2.imread('src/road.jpg', 0)\n",
    "cv2.imshow('img', img)\n",
    "cv2.waitKey(0)\n",
    "cv2.destroyAllWindows()\n",
    "cv2.waitKey(1)"
   ]
  },
  {
   "cell_type": "code",
   "execution_count": 27,
   "id": "2a4b5343-15d6-423b-8f57-3972cf2b30ff",
   "metadata": {},
   "outputs": [
    {
     "data": {
      "text/plain": [
       "-1"
      ]
     },
     "execution_count": 27,
     "metadata": {},
     "output_type": "execute_result"
    }
   ],
   "source": [
    "img_canny = cv2.Canny(img_g, 300, 450)\n",
    "cv2.imshow('img_canny', img_canny)\n",
    "cv2.waitKey(0)\n",
    "cv2.destroyAllWindows()\n",
    "cv2.waitKey(1)"
   ]
  },
  {
   "cell_type": "code",
   "execution_count": 28,
   "id": "90c97d21-2035-4804-81c8-8576167ef187",
   "metadata": {},
   "outputs": [],
   "source": [
    "# 第1：入力画像、第2：ρの刻み値、第3：θの刻み値、第4：組み合わせが100回以上あったら蓄えられる\n",
    "lines = cv2.HoughLines(img_canny, 1, np.pi/100, 100)"
   ]
  },
  {
   "cell_type": "code",
   "execution_count": 29,
   "id": "56742d24-191a-4956-8270-265c3c45237a",
   "metadata": {},
   "outputs": [
    {
     "data": {
      "text/plain": [
       "array([[[875.       ,   1.5707964]],\n",
       "\n",
       "       [[453.       ,   1.5393804]],\n",
       "\n",
       "       [[604.       ,   0.       ]],\n",
       "\n",
       "       [[793.       ,   1.6022123]],\n",
       "\n",
       "       [[829.       ,   1.5707964]],\n",
       "\n",
       "       [[847.       ,   1.5393804]],\n",
       "\n",
       "       [[826.       ,   1.5707964]],\n",
       "\n",
       "       [[622.       ,   1.1938052]],\n",
       "\n",
       "       [[444.       ,   1.5707964]],\n",
       "\n",
       "       [[846.       ,   1.6022123]],\n",
       "\n",
       "       [[776.       ,   1.6336282]],\n",
       "\n",
       "       [[876.       ,   1.5079646]],\n",
       "\n",
       "       [[448.       ,   1.5393804]],\n",
       "\n",
       "       [[845.       ,   1.5707964]],\n",
       "\n",
       "       [[863.       ,   1.5707964]],\n",
       "\n",
       "       [[858.       ,   1.5393804]],\n",
       "\n",
       "       [[867.       ,   1.5393804]],\n",
       "\n",
       "       [[437.       ,   1.5707964]],\n",
       "\n",
       "       [[790.       ,   1.6336282]],\n",
       "\n",
       "       [[812.       ,   1.6336282]]], dtype=float32)"
      ]
     },
     "execution_count": 29,
     "metadata": {},
     "output_type": "execute_result"
    }
   ],
   "source": [
    "lines"
   ]
  },
  {
   "cell_type": "code",
   "execution_count": 30,
   "id": "3f667672-794e-4efa-959f-d553f0600c03",
   "metadata": {},
   "outputs": [
    {
     "data": {
      "text/plain": [
       "-1"
      ]
     },
     "execution_count": 30,
     "metadata": {},
     "output_type": "execute_result"
    }
   ],
   "source": [
    "for i in lines[:]:\n",
    "    rho = i[0][0]\n",
    "    theta = i[0][1]\n",
    "    a = np.cos(theta)\n",
    "    b = np.sin(theta)\n",
    "    # 原点からρの値の座標\n",
    "    x0 = rho * a\n",
    "    y0 = rho * b\n",
    "    # 始点\n",
    "    x1 = int(x0 + 1000 * (-b))\n",
    "    y1 = int(y0 + 1000 * (a))\n",
    "    # 終点\n",
    "    x2 = int(x0 - 1000 * (-b))\n",
    "    y2 = int(y0 - 1000 * (a))\n",
    "    cv2.line(img, (x1,y1), (x2,y2), (255,0,0), 1)\n",
    "cv2.imshow('img', img)\n",
    "cv2.waitKey(0)\n",
    "cv2.destroyAllWindows()\n",
    "cv2.waitKey(1)"
   ]
  },
  {
   "cell_type": "code",
   "execution_count": 2,
   "id": "872f9325-d847-4807-a5ee-8cc4cf63e16b",
   "metadata": {},
   "outputs": [],
   "source": [
    "# 円の検出"
   ]
  },
  {
   "cell_type": "code",
   "execution_count": 17,
   "id": "c46d9b85-1eef-4cd7-a0b7-48295ad696af",
   "metadata": {},
   "outputs": [
    {
     "data": {
      "text/plain": [
       "-1"
      ]
     },
     "execution_count": 17,
     "metadata": {},
     "output_type": "execute_result"
    }
   ],
   "source": [
    "img2 = cv2.imread('src/grapes.jpg')\n",
    "img2_g = cv2.imread('src/grapes.jpg', 0)\n",
    "cv2.imshow('img', img2)\n",
    "cv2.waitKey(0)\n",
    "cv2.destroyAllWindows()\n",
    "cv2.waitKey(1)"
   ]
  },
  {
   "cell_type": "code",
   "execution_count": 8,
   "id": "657d5380-7e86-4582-871c-3e304ccec677",
   "metadata": {},
   "outputs": [
    {
     "data": {
      "text/plain": [
       "\u001b[0;31mDocstring:\u001b[0m\n",
       "HoughCircles(image, method, dp, minDist[, circles[, param1[, param2[, minRadius[, maxRadius]]]]]) -> circles\n",
       ".   @brief Finds circles in a grayscale image using the Hough transform.\n",
       ".   \n",
       ".   The function finds circles in a grayscale image using a modification of the Hough transform.\n",
       ".   \n",
       ".   Example: :\n",
       ".   @include snippets/imgproc_HoughLinesCircles.cpp\n",
       ".   \n",
       ".   @note Usually the function detects the centers of circles well. However, it may fail to find correct\n",
       ".   radii. You can assist to the function by specifying the radius range ( minRadius and maxRadius ) if\n",
       ".   you know it. Or, in the case of #HOUGH_GRADIENT method you may set maxRadius to a negative number\n",
       ".   to return centers only without radius search, and find the correct radius using an additional procedure.\n",
       ".   \n",
       ".   It also helps to smooth image a bit unless it's already soft. For example,\n",
       ".   GaussianBlur() with 7x7 kernel and 1.5x1.5 sigma or similar blurring may help.\n",
       ".   \n",
       ".   @param image 8-bit, single-channel, grayscale input image.\n",
       ".   @param circles Output vector of found circles. Each vector is encoded as  3 or 4 element\n",
       ".   floating-point vector \\f$(x, y, radius)\\f$ or \\f$(x, y, radius, votes)\\f$ .\n",
       ".   @param method Detection method, see #HoughModes. The available methods are #HOUGH_GRADIENT and #HOUGH_GRADIENT_ALT.\n",
       ".   @param dp Inverse ratio of the accumulator resolution to the image resolution. For example, if\n",
       ".   dp=1 , the accumulator has the same resolution as the input image. If dp=2 , the accumulator has\n",
       ".   half as big width and height. For #HOUGH_GRADIENT_ALT the recommended value is dp=1.5,\n",
       ".   unless some small very circles need to be detected.\n",
       ".   @param minDist Minimum distance between the centers of the detected circles. If the parameter is\n",
       ".   too small, multiple neighbor circles may be falsely detected in addition to a true one. If it is\n",
       ".   too large, some circles may be missed.\n",
       ".   @param param1 First method-specific parameter. In case of #HOUGH_GRADIENT and #HOUGH_GRADIENT_ALT,\n",
       ".   it is the higher threshold of the two passed to the Canny edge detector (the lower one is twice smaller).\n",
       ".   Note that #HOUGH_GRADIENT_ALT uses #Scharr algorithm to compute image derivatives, so the threshold value\n",
       ".   shough normally be higher, such as 300 or normally exposed and contrasty images.\n",
       ".   @param param2 Second method-specific parameter. In case of #HOUGH_GRADIENT, it is the\n",
       ".   accumulator threshold for the circle centers at the detection stage. The smaller it is, the more\n",
       ".   false circles may be detected. Circles, corresponding to the larger accumulator values, will be\n",
       ".   returned first. In the case of #HOUGH_GRADIENT_ALT algorithm, this is the circle \"perfectness\" measure.\n",
       ".   The closer it to 1, the better shaped circles algorithm selects. In most cases 0.9 should be fine.\n",
       ".   If you want get better detection of small circles, you may decrease it to 0.85, 0.8 or even less.\n",
       ".   But then also try to limit the search range [minRadius, maxRadius] to avoid many false circles.\n",
       ".   @param minRadius Minimum circle radius.\n",
       ".   @param maxRadius Maximum circle radius. If <= 0, uses the maximum image dimension. If < 0, #HOUGH_GRADIENT returns\n",
       ".   centers without finding the radius. #HOUGH_GRADIENT_ALT always computes circle radiuses.\n",
       ".   \n",
       ".   @sa fitEllipse, minEnclosingCircle\n",
       "\u001b[0;31mType:\u001b[0m      builtin_function_or_method\n"
      ]
     },
     "metadata": {},
     "output_type": "display_data"
    }
   ],
   "source": [
    "# 引数が何か見ることができる\n",
    "circles = cv2.HoughCircles?"
   ]
  },
  {
   "cell_type": "code",
   "execution_count": 25,
   "id": "6384f3e8-876e-48d6-b1e7-fdb0b107577e",
   "metadata": {},
   "outputs": [],
   "source": [
    "circles = cv2.HoughCircles(img2_g, cv2.HOUGH_GRADIENT, dp=1, minDist=1, param1=20, param2=35, minRadius=1, maxRadius=30)"
   ]
  },
  {
   "cell_type": "code",
   "execution_count": 38,
   "id": "0742e0dd-74e8-46e8-aa8f-89713cde6e4a",
   "metadata": {},
   "outputs": [],
   "source": [
    "circles = np.uint16(np.around(circles))"
   ]
  },
  {
   "cell_type": "code",
   "execution_count": 39,
   "id": "cc47da1b-2ab7-41ad-90ee-cc192a8e5ed5",
   "metadata": {},
   "outputs": [
    {
     "data": {
      "text/plain": [
       "-1"
      ]
     },
     "execution_count": 39,
     "metadata": {},
     "output_type": "execute_result"
    }
   ],
   "source": [
    "for i in circles[0]:\n",
    "    cv2.circle(img2, (i[0],i[1]), i[2], (255,0,0), 1)\n",
    "cv2.imshow('img', img2)\n",
    "cv2.waitKey(0)\n",
    "cv2.destroyAllWindows()\n",
    "cv2.waitKey(1)"
   ]
  },
  {
   "cell_type": "code",
   "execution_count": null,
   "id": "da449d9d-a59a-49ae-874b-965372b8c836",
   "metadata": {},
   "outputs": [],
   "source": []
  },
  {
   "cell_type": "code",
   "execution_count": null,
   "id": "adc055e4-a32c-4b8c-8c7e-be776635f1e2",
   "metadata": {},
   "outputs": [],
   "source": [
    "# モルフォルジー演算"
   ]
  },
  {
   "cell_type": "code",
   "execution_count": 1,
   "id": "eb31ba11-353e-40f7-aab5-93169866dbaf",
   "metadata": {},
   "outputs": [],
   "source": [
    "import cv2\n",
    "import numpy as np"
   ]
  },
  {
   "cell_type": "code",
   "execution_count": 2,
   "id": "0bb7e64d-61ac-4c6d-98e9-8b5137c3f669",
   "metadata": {},
   "outputs": [],
   "source": [
    "img = cv2.imread(\"src/floor.jpg\",0)"
   ]
  },
  {
   "cell_type": "code",
   "execution_count": 3,
   "id": "8439f61f-553c-4de5-97a1-c815af0ca795",
   "metadata": {},
   "outputs": [
    {
     "data": {
      "text/plain": [
       "-1"
      ]
     },
     "execution_count": 3,
     "metadata": {},
     "output_type": "execute_result"
    }
   ],
   "source": [
    "ret, img_th = cv2.threshold(img, 110, 255, cv2.THRESH_BINARY)\n",
    "cv2.imshow(\"img\",img_th)\n",
    "cv2.waitKey(0)\n",
    "cv2.destroyAllWindows()\n",
    "cv2.waitKey(1)"
   ]
  },
  {
   "cell_type": "code",
   "execution_count": 6,
   "id": "7b580fc5-d3bb-4d84-af05-2d1a0178df71",
   "metadata": {},
   "outputs": [],
   "source": [
    "kernel = np.ones((3,3), dtype=np.uint8)\n",
    "img_d = cv2.dilate(img_th, kernel)\n",
    "img_e = cv2.erode(img_th, kernel)"
   ]
  },
  {
   "cell_type": "code",
   "execution_count": 8,
   "id": "4ac3a7d0-a59b-492c-93fe-fa5f984169d7",
   "metadata": {},
   "outputs": [
    {
     "data": {
      "text/plain": [
       "-1"
      ]
     },
     "execution_count": 8,
     "metadata": {},
     "output_type": "execute_result"
    }
   ],
   "source": [
    "cv2.imshow(\"img\",img_th)\n",
    "cv2.imshow(\"e\", img_e)\n",
    "cv2.imshow(\"d\", img_d)\n",
    "cv2.waitKey(0)\n",
    "cv2.destroyAllWindows()\n",
    "cv2.waitKey(1)"
   ]
  },
  {
   "cell_type": "code",
   "execution_count": 8,
   "id": "e56dc2ff-e3d0-4a0b-bb4a-8a7b610b7ce0",
   "metadata": {},
   "outputs": [],
   "source": [
    "img_c = cv2.morphologyEx(img_th, cv2.MORPH_CLOSE, kernel)"
   ]
  },
  {
   "cell_type": "code",
   "execution_count": 9,
   "id": "9c2b4390-1f98-4702-b924-9d677c9d73c0",
   "metadata": {},
   "outputs": [
    {
     "data": {
      "text/plain": [
       "-1"
      ]
     },
     "execution_count": 9,
     "metadata": {},
     "output_type": "execute_result"
    }
   ],
   "source": [
    "cv2.imshow(\"c\",img_c)\n",
    "cv2.imshow(\"d\", img_d)\n",
    "cv2.waitKey(0)\n",
    "cv2.destroyAllWindows()\n",
    "cv2.waitKey(1)"
   ]
  },
  {
   "cell_type": "code",
   "execution_count": null,
   "id": "86f1b8b8-c3cb-4529-b543-d0c9537178ba",
   "metadata": {},
   "outputs": [],
   "source": []
  },
  {
   "cell_type": "code",
   "execution_count": null,
   "id": "ff8e223b-3109-4829-b460-47ae41b04d2a",
   "metadata": {},
   "outputs": [],
   "source": [
    "# インペイント・・・落書きを消すなど"
   ]
  },
  {
   "cell_type": "code",
   "execution_count": 1,
   "id": "50e2cb2e-48f7-4e98-bcff-fa5145d46354",
   "metadata": {},
   "outputs": [],
   "source": [
    "import cv2\n",
    "import numpy as np"
   ]
  },
  {
   "cell_type": "code",
   "execution_count": 2,
   "id": "a8c2d033-01e1-4423-852a-4b58a80fee90",
   "metadata": {},
   "outputs": [],
   "source": [
    "img = cv2.imread(\"src/Bus.jpg\")\n",
    "img_mask = cv2.imread(\"src/Mask.jpg\",0)"
   ]
  },
  {
   "cell_type": "code",
   "execution_count": 3,
   "id": "ae9a8527-c120-4a3c-959b-948a566b952f",
   "metadata": {},
   "outputs": [
    {
     "data": {
      "text/plain": [
       "-1"
      ]
     },
     "execution_count": 3,
     "metadata": {},
     "output_type": "execute_result"
    }
   ],
   "source": [
    "cv2.imshow(\"Mask\",img_mask)\n",
    "cv2.imshow(\"img\",img)\n",
    "cv2.waitKey(0)\n",
    "cv2.destroyAllWindows()\n",
    "cv2.waitKey(1)"
   ]
  },
  {
   "cell_type": "code",
   "execution_count": 5,
   "id": "3cfadbcf-998a-4694-8c06-ae5182c26b68",
   "metadata": {},
   "outputs": [
    {
     "data": {
      "text/plain": [
       "-1"
      ]
     },
     "execution_count": 5,
     "metadata": {},
     "output_type": "execute_result"
    }
   ],
   "source": [
    "thresh = 1\n",
    "ret, img_bin = cv2.threshold(img_mask, thresh, 255, cv2.THRESH_BINARY)\n",
    "cv2.imshow(\"img\", img_bin)\n",
    "cv2.waitKey(0)\n",
    "cv2.destroyAllWindows()\n",
    "cv2.waitKey(1)"
   ]
  },
  {
   "cell_type": "code",
   "execution_count": 6,
   "id": "b99c4564-cb3a-434a-9396-b8f621fa215e",
   "metadata": {},
   "outputs": [
    {
     "data": {
      "text/plain": [
       "-1"
      ]
     },
     "execution_count": 6,
     "metadata": {},
     "output_type": "execute_result"
    }
   ],
   "source": [
    "img_dst = cv2.inpaint(img, img_bin, 3, cv2.INPAINT_NS)\n",
    "cv2.imshow(\"img\",img)\n",
    "cv2.imshow(\"inpaint\",img_dst)\n",
    "cv2.waitKey(0)\n",
    "cv2.destroyAllWindows()\n",
    "cv2.waitKey(1)"
   ]
  },
  {
   "cell_type": "code",
   "execution_count": null,
   "id": "200d67b7-3b14-4423-a458-6ab5ca997665",
   "metadata": {},
   "outputs": [],
   "source": []
  },
  {
   "cell_type": "code",
   "execution_count": null,
   "id": "db5c1c5b-2cfd-4f07-b571-feac3c79f8eb",
   "metadata": {},
   "outputs": [],
   "source": [
    "# 特別抽出"
   ]
  },
  {
   "cell_type": "code",
   "execution_count": null,
   "id": "bf34b802-dd04-44dd-a3bf-f8479aadbd96",
   "metadata": {},
   "outputs": [],
   "source": [
    "import cv2\n",
    "import numpy as np\n",
    "import copy"
   ]
  },
  {
   "cell_type": "code",
   "execution_count": null,
   "id": "2b113768-4829-453b-ad69-0dc1e1b8df59",
   "metadata": {},
   "outputs": [],
   "source": [
    "img = cv2.imread(\"src/buildings.jpg\")\n",
    "img_g = cv2.imread(\"src/buildings.jpg\",0)"
   ]
  },
  {
   "cell_type": "code",
   "execution_count": null,
   "id": "5bf5e4c2-b600-4de9-995a-5bfd33c6c709",
   "metadata": {},
   "outputs": [],
   "source": [
    "img_harris = copy.deepcopy(img)\n",
    "img_dst = cv2.cornerHarris(img_g, 2, 3, 0.04)"
   ]
  },
  {
   "cell_type": "code",
   "execution_count": null,
   "id": "3f2b9ca0-e096-4f76-ad73-2f39c4e3a7ad",
   "metadata": {},
   "outputs": [],
   "source": []
  },
  {
   "cell_type": "code",
   "execution_count": null,
   "id": "d7c71d48-3e68-4482-90cb-8f9648904c54",
   "metadata": {},
   "outputs": [],
   "source": []
  },
  {
   "cell_type": "code",
   "execution_count": null,
   "id": "73307432-31d4-4f0b-83c1-ae2fb429664a",
   "metadata": {},
   "outputs": [],
   "source": []
  },
  {
   "cell_type": "code",
   "execution_count": null,
   "id": "1a875268-497e-47cf-809c-0c7ec4b03140",
   "metadata": {},
   "outputs": [],
   "source": []
  }
 ],
 "metadata": {
  "kernelspec": {
   "display_name": "Python 3",
   "language": "python",
   "name": "python3"
  },
  "language_info": {
   "codemirror_mode": {
    "name": "ipython",
    "version": 3
   },
   "file_extension": ".py",
   "mimetype": "text/x-python",
   "name": "python",
   "nbconvert_exporter": "python",
   "pygments_lexer": "ipython3",
   "version": "3.8.8"
  }
 },
 "nbformat": 4,
 "nbformat_minor": 5
}
