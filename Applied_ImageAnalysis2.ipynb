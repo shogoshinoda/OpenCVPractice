{
 "cells": [
  {
   "cell_type": "code",
   "execution_count": null,
   "id": "a6cc73df-16a7-47aa-972b-cd3711bb46a9",
   "metadata": {},
   "outputs": [],
   "source": []
  },
  {
   "cell_type": "code",
   "execution_count": null,
   "id": "05ebd2a1-f58a-4048-8e2d-6e940745db21",
   "metadata": {},
   "outputs": [],
   "source": [
    "#　画像の微分　　隣のピクセルの画素との変化量"
   ]
  },
  {
   "cell_type": "code",
   "execution_count": null,
   "id": "373e2255-31e9-4e92-bc92-2ae63ad29893",
   "metadata": {},
   "outputs": [],
   "source": [
    "# エッジの検出（Sobel・Laplacian） LaplacianGaush"
   ]
  },
  {
   "cell_type": "code",
   "execution_count": 1,
   "id": "e4939ce0-190f-453b-b07f-5763ee7e2d65",
   "metadata": {},
   "outputs": [],
   "source": [
    "import cv2"
   ]
  },
  {
   "cell_type": "code",
   "execution_count": 2,
   "id": "6efb8004-a82e-4e3f-8129-7543907b69b7",
   "metadata": {},
   "outputs": [
    {
     "data": {
      "text/plain": [
       "-1"
      ]
     },
     "execution_count": 2,
     "metadata": {},
     "output_type": "execute_result"
    }
   ],
   "source": [
    "img = cv2.imread('src/Lena.jpg', 0)\n",
    "cv2.imshow('img', img)\n",
    "cv2.waitKey(0)\n",
    "cv2.destroyAllWindows()\n",
    "cv2.waitKey(1)"
   ]
  },
  {
   "cell_type": "code",
   "execution_count": 6,
   "id": "e579d167-4fb5-4275-80ee-dad5bd1890fc",
   "metadata": {},
   "outputs": [],
   "source": [
    "# sobel\n",
    "# x方向微分\n",
    "img_sobelx = cv2.Sobel(img, cv2.CV_32F, 1, 0, ksize=3)\n",
    "# y方向微分\n",
    "img_sobely = cv2.Sobel(img, cv2.CV_32F, 0, 1, ksize=3)"
   ]
  },
  {
   "cell_type": "code",
   "execution_count": 7,
   "id": "be07d222-40be-459f-88cf-f8e8a3ffb392",
   "metadata": {},
   "outputs": [
    {
     "data": {
      "text/plain": [
       "array([[   0.,   -4.,   -6., ...,  -72., -174.,    0.],\n",
       "       [   0.,   -1.,   -5., ...,  -68., -176.,    0.],\n",
       "       [   0.,    3.,   -5., ...,  -58., -169.,    0.],\n",
       "       ...,\n",
       "       [   0.,   31.,   14., ...,   -1.,  -12.,    0.],\n",
       "       [   0.,   51.,   26., ...,    6.,    9.,    0.],\n",
       "       [   0.,   58.,   28., ...,   10.,   20.,    0.]], dtype=float32)"
      ]
     },
     "execution_count": 7,
     "metadata": {},
     "output_type": "execute_result"
    }
   ],
   "source": [
    "img_sobelx"
   ]
  },
  {
   "cell_type": "code",
   "execution_count": 8,
   "id": "87f034ec-6bf5-4293-9aa6-0f0f399d2848",
   "metadata": {},
   "outputs": [],
   "source": [
    "# 微分したものはマイナスが入っているので、0-255段階に直す\n",
    "img_sobelx = cv2.convertScaleAbs(img_sobelx)\n",
    "img_sobely = cv2.convertScaleAbs(img_sobely)"
   ]
  },
  {
   "cell_type": "code",
   "execution_count": 5,
   "id": "4638c2b8-afe2-4bbd-adba-20d1dd038c36",
   "metadata": {},
   "outputs": [
    {
     "data": {
      "text/plain": [
       "array([[  0,   4,   6, ...,  72, 174,   0],\n",
       "       [  0,   1,   5, ...,  68, 176,   0],\n",
       "       [  0,   3,   5, ...,  58, 169,   0],\n",
       "       ...,\n",
       "       [  0,  31,  14, ...,   1,  12,   0],\n",
       "       [  0,  51,  26, ...,   6,   9,   0],\n",
       "       [  0,  58,  28, ...,  10,  20,   0]], dtype=uint8)"
      ]
     },
     "execution_count": 5,
     "metadata": {},
     "output_type": "execute_result"
    }
   ],
   "source": [
    "img_sobelx"
   ]
  },
  {
   "cell_type": "code",
   "execution_count": 9,
   "id": "ea007cc0-0b49-46ec-b8bb-923258c99fba",
   "metadata": {},
   "outputs": [
    {
     "data": {
      "text/plain": [
       "-1"
      ]
     },
     "execution_count": 9,
     "metadata": {},
     "output_type": "execute_result"
    }
   ],
   "source": [
    "cv2.imshow('x', img_sobelx)\n",
    "cv2.imshow('y', img_sobely)\n",
    "cv2.waitKey(0)\n",
    "cv2.destroyAllWindows()\n",
    "cv2.waitKey(1)"
   ]
  },
  {
   "cell_type": "code",
   "execution_count": 10,
   "id": "04dba6aa-538e-4728-947c-2409fc6a471f",
   "metadata": {},
   "outputs": [],
   "source": [
    "# laplacian filter"
   ]
  },
  {
   "cell_type": "code",
   "execution_count": 12,
   "id": "ea073247-d0f3-4eae-8b88-9020314d86ee",
   "metadata": {},
   "outputs": [],
   "source": [
    "# 方向がないため入力画像とビット深度のみでいい\n",
    "img_lap = cv2.Laplacian(img, cv2.CV_32F)"
   ]
  },
  {
   "cell_type": "code",
   "execution_count": 13,
   "id": "a11b01ac-d149-4582-bb15-a43aa546814c",
   "metadata": {},
   "outputs": [],
   "source": [
    "img_lap = cv2.convertScaleAbs(img_lap)"
   ]
  },
  {
   "cell_type": "code",
   "execution_count": 15,
   "id": "e57365e3-cbcf-42a8-929e-70c38e09dfd4",
   "metadata": {},
   "outputs": [
    {
     "data": {
      "text/plain": [
       "-1"
      ]
     },
     "execution_count": 15,
     "metadata": {},
     "output_type": "execute_result"
    }
   ],
   "source": [
    "# 二次の微分のため値が弱い　ー＞はっきりさせるため\n",
    "# しかしノイズが発生するー＞ガウスを用いてノイズ除去\n",
    "img_lap *= 2\n",
    "cv2.imshow('img_lap', img_lap)\n",
    "cv2.waitKey(0)\n",
    "cv2.destroyAllWindows()\n",
    "cv2.waitKey(1)"
   ]
  },
  {
   "cell_type": "code",
   "execution_count": null,
   "id": "e01b0fd9-b91b-4179-9ab7-8aa6a32bba3e",
   "metadata": {},
   "outputs": [],
   "source": [
    "# Laplacian Of Gaussian Filter"
   ]
  },
  {
   "cell_type": "code",
   "execution_count": 16,
   "id": "b9c8613e-83ef-4532-bdbb-dc1920d45012",
   "metadata": {},
   "outputs": [],
   "source": [
    "img_blur = cv2.GaussianBlur(img, (3,3), 2)\n",
    "img_lap2 = cv2.Laplacian(img_blur, cv2.CV_32F)\n",
    "img_lap2 = cv2.convertScaleAbs(img_lap2)"
   ]
  },
  {
   "cell_type": "code",
   "execution_count": 18,
   "id": "e3f58b7f-dbef-4aa3-a004-5765cd2669c2",
   "metadata": {},
   "outputs": [
    {
     "data": {
      "text/plain": [
       "-1"
      ]
     },
     "execution_count": 18,
     "metadata": {},
     "output_type": "execute_result"
    }
   ],
   "source": [
    "img_lap2 *= 2\n",
    "cv2.imshow('img_lap2', img_lap2)\n",
    "cv2.waitKey(0)\n",
    "cv2.destroyAllWindows()\n",
    "cv2.waitKey(1)"
   ]
  },
  {
   "cell_type": "code",
   "execution_count": null,
   "id": "e45dcd39-9e8f-4a9f-b106-7b1847014b41",
   "metadata": {},
   "outputs": [],
   "source": []
  },
  {
   "cell_type": "code",
   "execution_count": null,
   "id": "ba95246b-4e29-4793-982d-c42f4f77ba45",
   "metadata": {},
   "outputs": [],
   "source": [
    "# エッジの検出（Canny）\n",
    "\"\"\"\n",
    "Cannyのアルゴリズム\n",
    "①ガウシアンフィルタでぼかす（ノイズ除去）\n",
    "②Sobelフィルターで微分する（x、yそれぞれ取得　　画素値の2乗和をスクエアルートで）\n",
    "③極大点を探す（グラデーションなどを除去）\n",
    "④2段階の閾値処理でエッジを残す（エッジ->画素値の変化が大きいところ）\n",
    "\"\"\""
   ]
  },
  {
   "cell_type": "code",
   "execution_count": 19,
   "id": "88073dee-1306-4047-901b-668250a180ff",
   "metadata": {},
   "outputs": [],
   "source": [
    "import cv2"
   ]
  },
  {
   "cell_type": "code",
   "execution_count": 20,
   "id": "a1b2fa22-8e9d-4489-82df-c8ea80eecc08",
   "metadata": {},
   "outputs": [],
   "source": [
    "img = cv2.imread('src/Lena.jpg', 0)"
   ]
  },
  {
   "cell_type": "code",
   "execution_count": 21,
   "id": "2ec5d8a8-946d-4632-875e-816f2515c680",
   "metadata": {},
   "outputs": [
    {
     "data": {
      "text/plain": [
       "-1"
      ]
     },
     "execution_count": 21,
     "metadata": {},
     "output_type": "execute_result"
    }
   ],
   "source": [
    "# 第2、第3の二つの閾値をうまく調整することによってより良い画像にする\n",
    "img_canny = cv2.Canny(img, 100, 200)\n",
    "cv2.imshow('img_canny', img_canny)\n",
    "cv2.waitKey(0)\n",
    "cv2.destroyAllWindows()\n",
    "cv2.waitKey(1)"
   ]
  },
  {
   "cell_type": "code",
   "execution_count": null,
   "id": "cb9a1726-9c29-49a3-a1b4-80b19f371d8f",
   "metadata": {},
   "outputs": [],
   "source": []
  },
  {
   "cell_type": "code",
   "execution_count": null,
   "id": "e65b2105-470a-4e41-a8a1-cab450dc0c93",
   "metadata": {},
   "outputs": [],
   "source": []
  },
  {
   "cell_type": "code",
   "execution_count": null,
   "id": "1c1e5ac3-8b4f-4992-aa6c-0a527367b0bb",
   "metadata": {},
   "outputs": [],
   "source": []
  },
  {
   "cell_type": "code",
   "execution_count": null,
   "id": "62127d5a-4398-4768-8953-cbc4b9033dfd",
   "metadata": {},
   "outputs": [],
   "source": []
  },
  {
   "cell_type": "code",
   "execution_count": null,
   "id": "2a4b5343-15d6-423b-8f57-3972cf2b30ff",
   "metadata": {},
   "outputs": [],
   "source": []
  },
  {
   "cell_type": "code",
   "execution_count": null,
   "id": "90c97d21-2035-4804-81c8-8576167ef187",
   "metadata": {},
   "outputs": [],
   "source": []
  }
 ],
 "metadata": {
  "kernelspec": {
   "display_name": "Python 3",
   "language": "python",
   "name": "python3"
  },
  "language_info": {
   "codemirror_mode": {
    "name": "ipython",
    "version": 3
   },
   "file_extension": ".py",
   "mimetype": "text/x-python",
   "name": "python",
   "nbconvert_exporter": "python",
   "pygments_lexer": "ipython3",
   "version": "3.8.8"
  }
 },
 "nbformat": 4,
 "nbformat_minor": 5
}
