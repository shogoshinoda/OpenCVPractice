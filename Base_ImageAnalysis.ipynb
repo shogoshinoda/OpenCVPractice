{
 "cells": [
  {
   "cell_type": "code",
   "execution_count": 27,
   "id": "39579fa4-6292-404e-b4de-63f96ec2cf01",
   "metadata": {},
   "outputs": [],
   "source": [
    "import cv2\n",
    "import os\n",
    "import sys\n",
    "import matplotlib.pyplot as plt\n",
    "import numpy as np"
   ]
  },
  {
   "cell_type": "code",
   "execution_count": 45,
   "id": "0624b1b0-015f-4e1c-8a49-ed381e1b5d7f",
   "metadata": {},
   "outputs": [],
   "source": [
    "#　画像一覧\n",
    "Berry = cv2.imread('src/Berry.jpg')\n",
    "Lena = cv2.imread('src/Lena.jpg')\n",
    "Grapes = cv2.imread('src/grapes.jpg')\n",
    "Floor = cv2.imread('src/floor.jpg', 0)\n",
    "\n",
    "Lena_gray = cv2.imread('src/Lena.jpg', 0)"
   ]
  },
  {
   "cell_type": "code",
   "execution_count": 5,
   "id": "ffc2c2d3-df1f-4f8c-ae61-d4723c3f638a",
   "metadata": {},
   "outputs": [
    {
     "data": {
      "text/plain": [
       "(589, 960, 3)"
      ]
     },
     "execution_count": 5,
     "metadata": {},
     "output_type": "execute_result"
    }
   ],
   "source": [
    "#画像の情報\n",
    "Berry.shape\n",
    "#　高さ、幅、画素数"
   ]
  },
  {
   "cell_type": "code",
   "execution_count": null,
   "id": "f24c6cb0-dca6-4fa5-b573-82a21ffaf44f",
   "metadata": {},
   "outputs": [],
   "source": []
  },
  {
   "cell_type": "code",
   "execution_count": null,
   "id": "fb75ee16-7d71-4a75-a392-d4a6f4df8f18",
   "metadata": {},
   "outputs": [],
   "source": [
    "#　画像の表示・出力"
   ]
  },
  {
   "cell_type": "code",
   "execution_count": 29,
   "id": "f2db0431-849f-4558-b622-faed87415860",
   "metadata": {},
   "outputs": [],
   "source": [
    "#　第1：画像の名前、第2：画像\n",
    "def imshow(img_name, img):\n",
    "    cv2.imshow(img_name, img)\n",
    "    cv2.waitKey(0)\n",
    "    cv2.destroyAllWindows()\n",
    "    cv2.waitKey(1)"
   ]
  },
  {
   "cell_type": "code",
   "execution_count": 7,
   "id": "97a346ba-bc97-43d5-856b-593151c7d301",
   "metadata": {},
   "outputs": [],
   "source": [
    "imshow('Berry', Berry)"
   ]
  },
  {
   "cell_type": "code",
   "execution_count": 8,
   "id": "42b7a4f6-b11b-44d4-accd-b23dbb2b5972",
   "metadata": {},
   "outputs": [
    {
     "data": {
      "text/plain": [
       "True"
      ]
     },
     "execution_count": 8,
     "metadata": {},
     "output_type": "execute_result"
    }
   ],
   "source": [
    "#　outputディレクトリに出力\n",
    "#　第1：どこになんというファイル、第2：画像\n",
    "cv2.imwrite('output/berry.jpg', Berry)"
   ]
  },
  {
   "cell_type": "code",
   "execution_count": null,
   "id": "1faf9c65-ef2b-4316-974b-e44f33d9c40d",
   "metadata": {},
   "outputs": [],
   "source": []
  },
  {
   "cell_type": "code",
   "execution_count": null,
   "id": "eff68103-722d-4526-9728-df6958ec4f03",
   "metadata": {},
   "outputs": [],
   "source": [
    "#動画の表示・出力"
   ]
  },
  {
   "cell_type": "code",
   "execution_count": 11,
   "id": "5e56a913-2161-4daa-ade2-88aa06edbb30",
   "metadata": {},
   "outputs": [],
   "source": [
    "cap = cv2.VideoCapture('movie/Cosmos.mp4')\n",
    "if cap.isOpened() == False:\n",
    "    sys.exit()\n",
    "ret, frame = cap.read()\n",
    "h, w = frame.shape[:2]\n",
    "fourcc = cv2.VideoWriter_fourcc(*'XVID')\n",
    "dst = cv2.VideoWriter('output/test.avi', fourcc, 30.0, (w, h))\n",
    "\n",
    "while True:\n",
    "    ret, frame = cap.read()\n",
    "    if ret == False:\n",
    "        break\n",
    "    cv2.imshow('img', frame)\n",
    "    dst.write(frame)\n",
    "    if cv2.waitKey(30) == 27:\n",
    "        break\n",
    "cv2.destroyAllWindows()\n",
    "cv2.waitKey(1)\n",
    "cap.release()"
   ]
  },
  {
   "cell_type": "code",
   "execution_count": null,
   "id": "41795e58-561e-433f-ab58-6440bb8225fa",
   "metadata": {},
   "outputs": [],
   "source": []
  },
  {
   "cell_type": "code",
   "execution_count": 12,
   "id": "8fd22659-9cb3-489b-9e58-b13460aa2319",
   "metadata": {},
   "outputs": [],
   "source": [
    "# ウィンドウの調整"
   ]
  },
  {
   "cell_type": "code",
   "execution_count": 6,
   "id": "5ac2067e-4921-47af-baa0-ab581ed137bd",
   "metadata": {},
   "outputs": [],
   "source": [
    "# windowの設定を決めることができる　　　　　　　　これはデフォルト\n",
    "cv2.namedWindow('window', cv2.WINDOW_AUTOSIZE)\n",
    "imshow('window', Lena)"
   ]
  },
  {
   "cell_type": "code",
   "execution_count": 7,
   "id": "bba6545f-7872-4244-845d-ac9a1960977b",
   "metadata": {},
   "outputs": [],
   "source": [
    "# windowにがぞうがめいっぱいに広がる\n",
    "cv2.namedWindow('window', cv2.WINDOW_NORMAL)\n",
    "imshow('window', Lena)"
   ]
  },
  {
   "cell_type": "code",
   "execution_count": 8,
   "id": "75f13d9e-ffcc-4953-afef-0e1e1151d1b3",
   "metadata": {},
   "outputs": [],
   "source": [
    "# resizeWindowで指定した解像度で画像を出力する\n",
    "cv2.namedWindow('window', cv2.WINDOW_NORMAL)\n",
    "cv2.resizeWindow('window', 640, 480)\n",
    "imshow('window', Lena)"
   ]
  },
  {
   "cell_type": "code",
   "execution_count": null,
   "id": "33ef3f3d-8320-4492-83d6-17edff20eb1c",
   "metadata": {},
   "outputs": [],
   "source": []
  },
  {
   "cell_type": "code",
   "execution_count": 9,
   "id": "48831737-a1c4-4a01-9367-20b7b069c5d1",
   "metadata": {},
   "outputs": [],
   "source": [
    "# リサイズ"
   ]
  },
  {
   "cell_type": "code",
   "execution_count": 11,
   "id": "ae10b5e2-10fe-4972-9384-43462415c9d6",
   "metadata": {},
   "outputs": [
    {
     "data": {
      "text/plain": [
       "(200, 300, 3)"
      ]
     },
     "execution_count": 11,
     "metadata": {},
     "output_type": "execute_result"
    }
   ],
   "source": [
    "size = (300, 200)#幅、高さ　（shapeとは逆になっていることに注意）\n",
    "Grapes_resize = cv2.resize(Grapes, size)\n",
    "Grapes_resize.shape"
   ]
  },
  {
   "cell_type": "code",
   "execution_count": 12,
   "id": "e35fe5ea-59c9-44ee-83ba-1489736ae9e7",
   "metadata": {},
   "outputs": [],
   "source": [
    "imshow('Grapes_resize', Grapes_resize)"
   ]
  },
  {
   "cell_type": "code",
   "execution_count": 14,
   "id": "5622f7fb-8e66-48c0-9532-81a4459f6319",
   "metadata": {},
   "outputs": [
    {
     "data": {
      "text/plain": [
       "-1"
      ]
     },
     "execution_count": 14,
     "metadata": {},
     "output_type": "execute_result"
    }
   ],
   "source": [
    "# area　 自然に仕上がる コチラの方が優れてる？\n",
    "Grapes_area = cv2.resize(Grapes, size, interpolation = cv2.INTER_AREA)\n",
    "#　linear ちかちかする　デフォルトの設定はINTER_LINEAR\n",
    "Grapes_linear = cv2.resize(Grapes, size, interpolation = cv2.INTER_LINEAR)\n",
    "cv2.imshow('area', Grapes_area)\n",
    "cv2.imshow('linear', Grapes_linear)\n",
    "cv2.waitKey(0)\n",
    "cv2.destroyAllWindows()\n",
    "cv2.waitKey(1)"
   ]
  },
  {
   "cell_type": "code",
   "execution_count": null,
   "id": "75d8a06e-8ab6-4463-96b9-6010ac3af5cb",
   "metadata": {},
   "outputs": [],
   "source": []
  },
  {
   "cell_type": "code",
   "execution_count": 16,
   "id": "cc27644b-2cb4-4246-9fd9-0ba738bef917",
   "metadata": {},
   "outputs": [],
   "source": [
    "# 色空間・グレースケール\n",
    "# RGB以外にもHSVなど様々な色の表し方がある"
   ]
  },
  {
   "cell_type": "code",
   "execution_count": 30,
   "id": "3683d45e-d974-4d15-914e-bb81ae439972",
   "metadata": {},
   "outputs": [
    {
     "name": "stdout",
     "output_type": "stream",
     "text": [
      "(640, 960)\n",
      "(640, 960, 3)\n"
     ]
    }
   ],
   "source": [
    "# グレースケール\n",
    "Grapes_gray = cv2.cvtColor(Grapes, cv2.COLOR_BGR2GRAY)\n",
    "# HSVであらわす\n",
    "Grapes_hsv = cv2.cvtColor(Grapes, cv2.COLOR_BGR2HSV)\n",
    "\n",
    "print(Grapes_gray.shape)\n",
    "print(Grapes_hsv.shape)"
   ]
  },
  {
   "cell_type": "code",
   "execution_count": 21,
   "id": "4e9b3db2-8503-44f3-abe6-eabac2fc0287",
   "metadata": {},
   "outputs": [],
   "source": [
    "imshow('gray', Grapes_gray)"
   ]
  },
  {
   "cell_type": "code",
   "execution_count": 22,
   "id": "10e2358d-ed0f-480e-893d-39a6d65fc125",
   "metadata": {},
   "outputs": [],
   "source": [
    "imshow('hsv', Grapes_hsv)"
   ]
  },
  {
   "cell_type": "code",
   "execution_count": 23,
   "id": "e745d66e-c7bf-483a-86f4-4c2144a4daf6",
   "metadata": {},
   "outputs": [],
   "source": [
    "# 取得する時にグレースケールに変換する方法\n",
    "Grapes_gray2 = cv2.imread('src/grapes.jpg', 0)\n",
    "imshow('gray2', Grapes_gray2)"
   ]
  },
  {
   "cell_type": "code",
   "execution_count": null,
   "id": "42512453-7db6-4d62-8373-cc0f2a61f78e",
   "metadata": {},
   "outputs": [],
   "source": []
  },
  {
   "cell_type": "code",
   "execution_count": null,
   "id": "e1fed59d-bf06-4759-bf0d-6bf9955aca84",
   "metadata": {},
   "outputs": [],
   "source": [
    "# ヒストグラム"
   ]
  },
  {
   "cell_type": "code",
   "execution_count": 25,
   "id": "cfdfe834-e38e-4709-bbe2-c5b6004170e7",
   "metadata": {},
   "outputs": [
    {
     "data": {
      "image/png": "[encoded data removed]",
      "text/plain": [
       "<Figure size 432x288 with 1 Axes>"
      ]
     },
     "metadata": {
      "needs_background": "light"
     },
     "output_type": "display_data"
    }
   ],
   "source": [
    "#　それぞれの画素がどの量なのか（右が多く左が少ない）　　　どこから読み込んでのかがわからない\n",
    "color_list = ['blue', 'green', 'red']\n",
    "for i,j in enumerate(color_list):\n",
    "    hist = cv2.calcHist([Lena],[i], None, [256], [0,256])\n",
    "    plt.plot(hist, color = j)"
   ]
  },
  {
   "cell_type": "code",
   "execution_count": 27,
   "id": "3faa038a-9951-4f9f-af15-b05cc2e87c24",
   "metadata": {},
   "outputs": [
    {
     "data": {
      "text/plain": [
       "[<matplotlib.lines.Line2D at 0x7fb9a81d86d0>]"
      ]
     },
     "execution_count": 27,
     "metadata": {},
     "output_type": "execute_result"
    },
    {
     "data": {
      "image/png": "[encoded data removed]",
      "text/plain": [
       "<Figure size 432x288 with 1 Axes>"
      ]
     },
     "metadata": {
      "needs_background": "light"
     },
     "output_type": "display_data"
    }
   ],
   "source": [
    "# グレースケールの場合（画素一種）\n",
    "#左が暗く、右が明るい\n",
    "# Lena_gray = cv2.imread('src/Lena.jpg', 0)\n",
    "hist2 = cv2.calcHist([Lena_gray], [0], None, [256], [0,256])\n",
    "plt.plot(hist2)"
   ]
  },
  {
   "cell_type": "code",
   "execution_count": null,
   "id": "e296b834-4f56-4a84-8dda-bcc25f8aa371",
   "metadata": {},
   "outputs": [],
   "source": []
  },
  {
   "cell_type": "code",
   "execution_count": 28,
   "id": "d593e513-169f-4be6-874d-f31460a9e91e",
   "metadata": {},
   "outputs": [],
   "source": [
    "# ヒストグラム均一化"
   ]
  },
  {
   "cell_type": "code",
   "execution_count": 29,
   "id": "0e4ee055-050f-4131-baa8-39b15ba30dae",
   "metadata": {},
   "outputs": [
    {
     "data": {
      "text/plain": [
       "[<matplotlib.lines.Line2D at 0x7fb9883551f0>]"
      ]
     },
     "execution_count": 29,
     "metadata": {},
     "output_type": "execute_result"
    },
    {
     "data": {
      "image/png": "[encoded data removed]",
      "text/plain": [
       "<Figure size 432x288 with 1 Axes>"
      ]
     },
     "metadata": {
      "needs_background": "light"
     },
     "output_type": "display_data"
    }
   ],
   "source": [
    "# 均一化　明暗をはっきりさせる　明るいのか暗いのかの二択みたいな感じ\n",
    "Lena_eq = cv2.equalizeHist(Lena_gray)\n",
    "hist_e = cv2.calcHist([Lena_eq], [0], None, [256], [0,256])\n",
    "plt.plot(hist_e)"
   ]
  },
  {
   "cell_type": "code",
   "execution_count": 31,
   "id": "39331959-32db-4863-943c-5a7959eb0739",
   "metadata": {},
   "outputs": [
    {
     "data": {
      "text/plain": [
       "-1"
      ]
     },
     "execution_count": 31,
     "metadata": {},
     "output_type": "execute_result"
    }
   ],
   "source": [
    "cv2.imshow('Lena', Lena_gray)\n",
    "cv2.imshow('img_eq', Lena_eq)\n",
    "cv2.waitKey(0)\n",
    "cv2.destroyAllWindows()\n",
    "cv2.waitKey(1)"
   ]
  },
  {
   "cell_type": "code",
   "execution_count": null,
   "id": "79e993ee-a5a4-429d-b051-adeb682d8a44",
   "metadata": {},
   "outputs": [],
   "source": []
  },
  {
   "cell_type": "code",
   "execution_count": 32,
   "id": "6eac52f4-75fc-41ba-9574-41e2b10e90ec",
   "metadata": {},
   "outputs": [],
   "source": [
    "# ガンマ変換"
   ]
  },
  {
   "cell_type": "code",
   "execution_count": 35,
   "id": "463a0e38-d546-4089-8b3e-1a89a5c13271",
   "metadata": {},
   "outputs": [],
   "source": [
    "# ガンマが1より小さい時暗くなる　　　　　　　ガンマが1より大きい時明るくなる\n",
    "gamma = 1.5\n",
    "gamma_cvt = np.zeros((256,1), dtype=np.uint8)\n",
    "for i in range(256):\n",
    "    gamma_cvt[i][0] = 255 * (float(i)/255) ** (1.0 / gamma)\n",
    "    \n",
    "Berry_gamma = cv2.LUT(Berry, gamma_cvt)"
   ]
  },
  {
   "cell_type": "code",
   "execution_count": null,
   "id": "fe96750d-eb89-4b6a-af21-5a8d782979e9",
   "metadata": {},
   "outputs": [],
   "source": [
    "print(np.zeros((6,3), dtype=np.uint8))"
   ]
  },
  {
   "cell_type": "code",
   "execution_count": 36,
   "id": "32a70588-afa7-4add-bb40-a48d046c9e04",
   "metadata": {},
   "outputs": [
    {
     "data": {
      "text/plain": [
       "-1"
      ]
     },
     "execution_count": 36,
     "metadata": {},
     "output_type": "execute_result"
    }
   ],
   "source": [
    "cv2.imshow('Berry', Berry)\n",
    "cv2.imshow('Berry_gamma', Berry_gamma)\n",
    "cv2.waitKey(0)\n",
    "cv2.destroyAllWindows()\n",
    "cv2.waitKey(1)"
   ]
  },
  {
   "cell_type": "code",
   "execution_count": 39,
   "id": "794c514b-687e-42f0-ac2f-5d4ef4bb1147",
   "metadata": {},
   "outputs": [],
   "source": [
    "gamma = 0.4\n",
    "gamma_cvt = np.zeros((256,1), dtype=np.uint8)\n",
    "for i in range(256):\n",
    "    gamma_cvt[i][0] = 255 * (float(i)/255) ** (1.0 / gamma)\n",
    "    \n",
    "Berry_gamma2 = cv2.LUT(Berry, gamma_cvt)"
   ]
  },
  {
   "cell_type": "code",
   "execution_count": 40,
   "id": "da22ff66-0205-4847-bf18-95575680e772",
   "metadata": {},
   "outputs": [
    {
     "data": {
      "text/plain": [
       "-1"
      ]
     },
     "execution_count": 40,
     "metadata": {},
     "output_type": "execute_result"
    }
   ],
   "source": [
    "cv2.imshow('Berry_gamma', Berry_gamma)\n",
    "cv2.imshow('Berry_gamma2', Berry_gamma2)\n",
    "cv2.waitKey(0)\n",
    "cv2.destroyAllWindows()\n",
    "cv2.waitKey(1)"
   ]
  },
  {
   "cell_type": "code",
   "execution_count": null,
   "id": "dce64e72-d5b2-4721-a9d9-fb2ef6bf70f5",
   "metadata": {},
   "outputs": [],
   "source": []
  },
  {
   "cell_type": "code",
   "execution_count": null,
   "id": "48e257c3-67ed-425e-8ed8-b2b00f3ad084",
   "metadata": {},
   "outputs": [],
   "source": [
    "# トラックバーの作成"
   ]
  },
  {
   "cell_type": "code",
   "execution_count": null,
   "id": "bce3d903-b1f3-4c83-8d20-d8cdf9ee934a",
   "metadata": {},
   "outputs": [],
   "source": [
    "def onTrackbar(position):\n",
    "    global trackValue\n",
    "    trackValue = position\n",
    "    \n",
    "trackValue = 100\n",
    "cv2.namedWindow('img')\n",
    "cv2.createTrackbar('track', 'img', trackValue, 255, onTrackbar)\n",
    "cv2.waitKey(0)\n",
    "cv2.destroyAllWindows()\n",
    "cv2.waitKey(1)"
   ]
  },
  {
   "cell_type": "code",
   "execution_count": null,
   "id": "116e5a3c-2a54-4e15-b002-0ba942d8dab3",
   "metadata": {},
   "outputs": [],
   "source": []
  },
  {
   "cell_type": "code",
   "execution_count": null,
   "id": "7465c62d-df07-4bef-bc78-db5eaab35e0d",
   "metadata": {},
   "outputs": [],
   "source": [
    "# マウスイベント"
   ]
  },
  {
   "cell_type": "code",
   "execution_count": null,
   "id": "0d7c2abc-4dca-4b7a-beb0-89c361bc429e",
   "metadata": {},
   "outputs": [],
   "source": [
    "def print_position(event, x, y, flags, param):\n",
    "    if event == cv2.EVENT_LBUTTONDBLCLK:\n",
    "        print(x,y)\n",
    "img = np.zeros((512,512), np.uint8)\n",
    "cv2.namedWindow('img')\n",
    "cv2.setMouseCallback('img', print_position)\n",
    "cv2.imshow('img', img)\n",
    "cv2.waitKey(0)\n",
    "cv2.destroyAllWindows()\n",
    "cv2.waitKey(1)"
   ]
  },
  {
   "cell_type": "code",
   "execution_count": null,
   "id": "70e61b8a-d266-4b07-be98-91c52f1a6bfb",
   "metadata": {},
   "outputs": [],
   "source": []
  },
  {
   "cell_type": "code",
   "execution_count": null,
   "id": "0c4a5920-35ce-46ff-bfd6-be4fb432d071",
   "metadata": {},
   "outputs": [],
   "source": [
    "# 図形の描画・文字の記述"
   ]
  },
  {
   "cell_type": "code",
   "execution_count": null,
   "id": "30e2994d-f95b-4fdf-bca2-473cb97dac8d",
   "metadata": {},
   "outputs": [],
   "source": [
    "#　np.ones第1：個数　第2：行数　第3：列数\n",
    "img = np.ones((500,500,3), dtype=np.uint8) * 255\n",
    "\n",
    "#線を描く　　　　　第1：画像、第2：（始点、終点）、第3：色、第4線の太さ\n",
    "cv2.line(img, (0,0), (150,190), (255,0,0), 2)\n",
    "#四角形を描く 対角の点を与える(第2と第3)\n",
    "cv2.rectangle(img, (100,25), (500,500), (0,255,0), 4)\n",
    "#円を描く  第2：中心、第3：半径、第4：種類\n",
    "cv2.circle(img, (100,100), 55, (0,0,255), -1)\n",
    "#楕円を描く　　　　第2：中心、第3：比率（横、縦）、第4：傾ける角度、第5：何度描くか、第6：色、第7：太さ\n",
    "cv2.ellipse(img, (250,250), (100,50), 20, 0, 360, (255,0,0), 1)\n",
    "#折線を描く False=始点と終点を結ばない（多角形にしない） 色　太さ\n",
    "pts = np.array([[100,30], [200,30], [200,80], [100,50]])\n",
    "cv2.polylines(img, [pts], False, (100,255,0), 3)\n",
    "#テキストを記述     第1：画像、第2：テキスト、第3：座標、第4：フォント、第5：、putText第7：文字の太さ、第8：テキストが美しくなる\n",
    "font = cv2.FONT_HERSHEY_SIMPLEX\n",
    "cv2.putText(img, 'OpenCV', (100,300), font, 1, (0,255,0), 3, cv2.LINE_AA)\n",
    "\n",
    "cv2.imshow('img', img)\n",
    "cv2.waitKey(0)\n",
    "cv2.destroyAllWindows()\n",
    "cv2.waitKey(1)"
   ]
  },
  {
   "cell_type": "code",
   "execution_count": null,
   "id": "8b001eba-1be6-4f66-afba-a2545fc9e42a",
   "metadata": {},
   "outputs": [],
   "source": [
    "# np.onesの説明\n",
    "print(np.ones((3,2,5),dtype=np.uint8)* 20)"
   ]
  },
  {
   "cell_type": "code",
   "execution_count": null,
   "id": "691e89ba-4113-4cb9-b96f-23569dc87e86",
   "metadata": {},
   "outputs": [],
   "source": []
  },
  {
   "cell_type": "code",
   "execution_count": null,
   "id": "8c402d30-abe2-4227-8afe-f3db3a4489b5",
   "metadata": {},
   "outputs": [],
   "source": [
    "# 2値化"
   ]
  },
  {
   "cell_type": "code",
   "execution_count": 35,
   "id": "2fba23ef-9e25-412f-ba27-0b3d9d27786d",
   "metadata": {},
   "outputs": [],
   "source": [
    "# 自分でthreshold(閾値)を決める\n",
    "threshold = 100\n",
    "ret, Grapes_th = cv2.threshold(Grapes, threshold, 255, cv2.THRESH_BINARY)"
   ]
  },
  {
   "cell_type": "code",
   "execution_count": 32,
   "id": "c5ed0066-3d14-40ca-bd3b-f5e38b53d9ff",
   "metadata": {},
   "outputs": [
    {
     "data": {
      "text/plain": [
       "100.0"
      ]
     },
     "execution_count": 32,
     "metadata": {},
     "output_type": "execute_result"
    }
   ],
   "source": [
    "ret"
   ]
  },
  {
   "cell_type": "code",
   "execution_count": 19,
   "id": "5912d3a0-b1ef-4f84-ad0b-41dbb359d86f",
   "metadata": {},
   "outputs": [],
   "source": [
    "imshow('Grapes_th', Grapes_th)"
   ]
  },
  {
   "cell_type": "code",
   "execution_count": 38,
   "id": "05ebc800-2a75-45d8-8a3d-fdec10f87ad3",
   "metadata": {},
   "outputs": [],
   "source": [
    "# OTSUは下の式から自動でthresholdを決める\n",
    "img = cv2.imread('src/grapes.jpg', 0)\n",
    "ret2, img_o = cv2.threshold(img, 0, 255, cv2.THRESH_OTSU)"
   ]
  },
  {
   "cell_type": "code",
   "execution_count": 39,
   "id": "ef6993b1-4f61-49af-b89a-3627d0148153",
   "metadata": {},
   "outputs": [
    {
     "data": {
      "text/plain": [
       "121.0"
      ]
     },
     "execution_count": 39,
     "metadata": {},
     "output_type": "execute_result"
    }
   ],
   "source": [
    "ret2"
   ]
  },
  {
   "cell_type": "code",
   "execution_count": 40,
   "id": "f33a2d7c-2deb-4be4-934d-2da43a4d5ff9",
   "metadata": {},
   "outputs": [
    {
     "data": {
      "text/plain": [
       "[<matplotlib.lines.Line2D at 0x7ff30a5eb3a0>]"
      ]
     },
     "execution_count": 40,
     "metadata": {},
     "output_type": "execute_result"
    },
    {
     "data": {
      "image/png": "[encoded data removed]",
      "text/plain": [
       "<Figure size 432x288 with 1 Axes>"
      ]
     },
     "metadata": {
      "needs_background": "light"
     },
     "output_type": "display_data"
    }
   ],
   "source": [
    "#shresholdをこの下の式から自動で求めてくれる\n",
    "hist = cv2.calcHist([img], [0], None, [256], [0,256])\n",
    "plt.plot(hist)"
   ]
  },
  {
   "cell_type": "code",
   "execution_count": 41,
   "id": "529ba83e-7909-434e-b38c-f6c97895d9e7",
   "metadata": {},
   "outputs": [],
   "source": [
    "imshow('img', img)"
   ]
  },
  {
   "cell_type": "code",
   "execution_count": 43,
   "id": "2cb19b11-ac33-40a4-9a5d-b60e3a1ae0ca",
   "metadata": {},
   "outputs": [],
   "source": [
    "#それぞれの領域でシュレ種ホールドを設定　かげがあるがぞうに役に立つ\n",
    "img_ada = cv2.adaptiveThreshold(img, 255, cv2.ADAPTIVE_THRESH_MEAN_C, cv2.THRESH_BINARY, 3, 1)"
   ]
  },
  {
   "cell_type": "code",
   "execution_count": 44,
   "id": "90bc276f-3559-4d0e-ad5d-4b99b91bc9aa",
   "metadata": {},
   "outputs": [
    {
     "data": {
      "text/plain": [
       "-1"
      ]
     },
     "execution_count": 44,
     "metadata": {},
     "output_type": "execute_result"
    }
   ],
   "source": [
    "cv2.imshow('img_o', img_o)\n",
    "cv2.imshow('img_ada', img_ada)\n",
    "cv2.waitKey(0)\n",
    "cv2.destroyAllWindows()\n",
    "cv2.waitKey(1)"
   ]
  },
  {
   "cell_type": "code",
   "execution_count": null,
   "id": "f82c12be-6112-4c3f-a174-ff3787a69bf0",
   "metadata": {},
   "outputs": [],
   "source": []
  },
  {
   "cell_type": "code",
   "execution_count": 42,
   "id": "169d2299-3264-42ff-a8f9-e44104bfd85f",
   "metadata": {},
   "outputs": [],
   "source": [
    "# 2値化　＋　トラックバー"
   ]
  },
  {
   "cell_type": "code",
   "execution_count": 46,
   "id": "22177f24-fc12-4e3e-94fc-db9e66ac4f38",
   "metadata": {},
   "outputs": [],
   "source": [
    "imshow('Floor', Floor)"
   ]
  },
  {
   "cell_type": "code",
   "execution_count": null,
   "id": "58103c21-047c-4198-9ad2-2094645d6f3f",
   "metadata": {},
   "outputs": [],
   "source": [
    "def onTrackbar(position):\n",
    "    global threshold\n",
    "    threshold = position\n",
    "\n",
    "cv2.namedWindow('img')\n",
    "threshold = 100\n",
    "cv2.createTrackbar('track', 'img', threshold, 255, onTrackbar)\n",
    "while True:\n",
    "#    ret, img_th = cv2.threshold(img, threshold, 255, cv2.THRESH_BINARY)\n",
    "                                                                                          #窓の大きさ（枠）\n",
    "    Floor_th = cv2.adaptiveThreshold(Floor, 255, cv2.ADAPTIVE_THRESH_MEAN_C, cv2.THRESH_BINARY, 3, threshold)\n",
    "    cv2.imshow('img', Floor_th)\n",
    "    if cv2.waitKey(10) == 27:\n",
    "        break\n",
    "cv2.destroyAllWindows()\n",
    "cv2.waitKey(1)"
   ]
  }
 ],
 "metadata": {
  "kernelspec": {
   "display_name": "Python 3",
   "language": "python",
   "name": "python3"
  },
  "language_info": {
   "codemirror_mode": {
    "name": "ipython",
    "version": 3
   },
   "file_extension": ".py",
   "mimetype": "text/x-python",
   "name": "python",
   "nbconvert_exporter": "python",
   "pygments_lexer": "ipython3",
   "version": "3.8.8"
  }
 },
 "nbformat": 4,
 "nbformat_minor": 5
}
